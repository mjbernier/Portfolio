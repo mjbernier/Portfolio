{
 "cells": [
  {
   "cell_type": "markdown",
   "metadata": {
    "application/vnd.databricks.v1+cell": {
     "cellMetadata": {},
     "inputWidgets": {},
     "nuid": "ddc570f6-2c19-48c6-a057-0db9b3b4b5bf",
     "showTitle": false,
     "title": ""
    }
   },
   "source": [
    "#DSCI 417 – Project 03\n",
    "##Forest Cover Prediction\n",
    "\n",
    "**Michael Bernier**"
   ]
  },
  {
   "cell_type": "markdown",
   "metadata": {
    "application/vnd.databricks.v1+cell": {
     "cellMetadata": {},
     "inputWidgets": {},
     "nuid": "b52d5e28-d95f-4ecb-a5b8-32f199653d55",
     "showTitle": false,
     "title": ""
    }
   },
   "source": [
    "##Part A - Set Up Environment\n",
    "In this part, the working environment will be set up."
   ]
  },
  {
   "cell_type": "markdown",
   "metadata": {
    "application/vnd.databricks.v1+cell": {
     "cellMetadata": {},
     "inputWidgets": {},
     "nuid": "758d597d-674b-4560-a61b-23cc66ab96e2",
     "showTitle": false,
     "title": ""
    }
   },
   "source": [
    "Import the tools and classes to be used for the project."
   ]
  },
  {
   "cell_type": "code",
   "execution_count": 0,
   "metadata": {
    "application/vnd.databricks.v1+cell": {
     "cellMetadata": {},
     "inputWidgets": {},
     "nuid": "b608dc0f-7764-4537-a692-3f1fd4157373",
     "showTitle": false,
     "title": ""
    }
   },
   "outputs": [
    {
     "output_type": "display_data",
     "data": {
      "text/html": [
       "<style scoped>\n",
       "  .ansiout {\n",
       "    display: block;\n",
       "    unicode-bidi: embed;\n",
       "    white-space: pre-wrap;\n",
       "    word-wrap: break-word;\n",
       "    word-break: break-all;\n",
       "    font-family: \"Source Code Pro\", \"Menlo\", monospace;;\n",
       "    font-size: 13px;\n",
       "    color: #555;\n",
       "    margin-left: 4px;\n",
       "    line-height: 19px;\n",
       "  }\n",
       "</style>\n",
       "<div class=\"ansiout\"></div>"
      ]
     },
     "metadata": {
      "application/vnd.databricks.v1+output": {
       "addedWidgets": {},
       "arguments": {},
       "data": "<div class=\"ansiout\"></div>",
       "datasetInfos": [],
       "metadata": {},
       "removedWidgets": [],
       "type": "html"
      }
     },
     "output_type": "display_data"
    }
   ],
   "source": [
    "import numpy as np\n",
    "import pandas as pd\n",
    "import matplotlib.pyplot as plt\n",
    " \n",
    "from pyspark.sql import SparkSession\n",
    "from pyspark.sql.functions import col, expr\n",
    " \n",
    "from pyspark.ml.feature import VectorAssembler, OneHotEncoder, StringIndexer\n",
    "from pyspark.ml.classification import LogisticRegression, DecisionTreeClassifier\n",
    "from pyspark.ml import Pipeline\n",
    "from pyspark.ml.tuning import CrossValidator, ParamGridBuilder\n",
    "from pyspark.ml.evaluation import MulticlassClassificationEvaluator\n",
    "from pyspark.mllib.evaluation import MulticlassMetrics"
   ]
  },
  {
   "cell_type": "markdown",
   "metadata": {
    "application/vnd.databricks.v1+cell": {
     "cellMetadata": {},
     "inputWidgets": {},
     "nuid": "d33081ae-f029-4606-9847-14aa1759f2af",
     "showTitle": false,
     "title": ""
    }
   },
   "source": [
    "Create the SparkSession and SparkContext objects."
   ]
  },
  {
   "cell_type": "code",
   "execution_count": 0,
   "metadata": {
    "application/vnd.databricks.v1+cell": {
     "cellMetadata": {},
     "inputWidgets": {},
     "nuid": "64697422-45f2-40ab-83bc-415b6cf1b0ca",
     "showTitle": false,
     "title": ""
    }
   },
   "outputs": [
    {
     "output_type": "display_data",
     "data": {
      "text/html": [
       "<style scoped>\n",
       "  .ansiout {\n",
       "    display: block;\n",
       "    unicode-bidi: embed;\n",
       "    white-space: pre-wrap;\n",
       "    word-wrap: break-word;\n",
       "    word-break: break-all;\n",
       "    font-family: \"Source Code Pro\", \"Menlo\", monospace;;\n",
       "    font-size: 13px;\n",
       "    color: #555;\n",
       "    margin-left: 4px;\n",
       "    line-height: 19px;\n",
       "  }\n",
       "</style>\n",
       "<div class=\"ansiout\"></div>"
      ]
     },
     "metadata": {
      "application/vnd.databricks.v1+output": {
       "addedWidgets": {},
       "arguments": {},
       "data": "<div class=\"ansiout\"></div>",
       "datasetInfos": [],
       "metadata": {},
       "removedWidgets": [],
       "type": "html"
      }
     },
     "output_type": "display_data"
    }
   ],
   "source": [
    "spark = SparkSession.builder.getOrCreate()\n",
    "sc = spark.sparkContext"
   ]
  },
  {
   "cell_type": "markdown",
   "metadata": {
    "application/vnd.databricks.v1+cell": {
     "cellMetadata": {},
     "inputWidgets": {},
     "nuid": "53731d53-68e1-4ca8-9a2f-3ed726a5bd20",
     "showTitle": false,
     "title": ""
    }
   },
   "source": [
    "##Part B - Load and Explore the Data\n",
    "In this part we will be loading and exploring the data used for the project. The Forest Cover dataset contains cartographic information from four wilderness areas within the Roosevelt National Forest in northern Colorado. Each observation in the dataset represents a 30-meter x 30-meter square of land. It includes the following columns:\n",
    "\n",
    "- Elevation – The average elevation of the region in meters.\n",
    "- Aspect – The direction the slope of the region faces in degrees, with 0 degrees indicating North.\n",
    "- Slope – The average slope of the region in degrees.\n",
    "- Horizontal_Distance_To_Hydrology – The horizontal distance to the nearest surface water.\n",
    "- Vertical_Distance_To_Hydrology – The vertical distance to the nearest surface water.\n",
    "- Horizontal_Distance_To_Roadways – The horizontal distance to the nearest roadway.\n",
    "- Hillshade_9am – The amount of shade at 9 am during the summer solstice.\n",
    "- Hillshade_Noon – The amount of shade at noon during the summer solstice.\n",
    "- Hillshade_3pm – The amount of shade at 3 pm during the summer solstice.\n",
    "- Horizontal_Distance_To_Fire_Points – The horizontal distance to the nearest wildfire ignition points.\n",
    "- Wilderness_Area – The name of the wilderness area the square of land resides in.\n",
    "- Soil_Type – An integer from 1-40 indicating the predominant soil type.\n",
    "- Cover_Type – An integer from 1-7 indicating the predominant forest cover type."
   ]
  },
  {
   "cell_type": "markdown",
   "metadata": {
    "application/vnd.databricks.v1+cell": {
     "cellMetadata": {},
     "inputWidgets": {},
     "nuid": "81508783-a528-4abe-886b-85c0feb11bff",
     "showTitle": false,
     "title": ""
    }
   },
   "source": [
    "Create a custom schema, load the **forest_cover.txt** file into a dataframe, and print the schema."
   ]
  },
  {
   "cell_type": "code",
   "execution_count": 0,
   "metadata": {
    "application/vnd.databricks.v1+cell": {
     "cellMetadata": {},
     "inputWidgets": {},
     "nuid": "c9c0d353-4a38-4cad-a255-11cacb96a9bd",
     "showTitle": false,
     "title": ""
    }
   },
   "outputs": [
    {
     "output_type": "display_data",
     "data": {
      "text/html": [
       "<style scoped>\n",
       "  .ansiout {\n",
       "    display: block;\n",
       "    unicode-bidi: embed;\n",
       "    white-space: pre-wrap;\n",
       "    word-wrap: break-word;\n",
       "    word-break: break-all;\n",
       "    font-family: \"Source Code Pro\", \"Menlo\", monospace;;\n",
       "    font-size: 13px;\n",
       "    color: #555;\n",
       "    margin-left: 4px;\n",
       "    line-height: 19px;\n",
       "  }\n",
       "</style>\n",
       "<div class=\"ansiout\">root\n",
       "-- Elevation: integer (nullable = true)\n",
       "-- Aspect: integer (nullable = true)\n",
       "-- Slope: integer (nullable = true)\n",
       "-- Horizontal_Distance_To_Hydrology: integer (nullable = true)\n",
       "-- Vertical_Distance_To_Hydrology: integer (nullable = true)\n",
       "-- Horizontal_Distance_To_Roadways: integer (nullable = true)\n",
       "-- Hillshade_9am: integer (nullable = true)\n",
       "-- Hillshade_Noon: integer (nullable = true)\n",
       "-- Hillshade_3pm: integer (nullable = true)\n",
       "-- Horizontal_Distance_To_Firepoints: integer (nullable = true)\n",
       "-- Wilderness_Area: string (nullable = true)\n",
       "-- Soil_Type: integer (nullable = true)\n",
       "-- Cover_Type: integer (nullable = true)\n",
       "\n",
       "</div>"
      ]
     },
     "metadata": {
      "application/vnd.databricks.v1+output": {
       "addedWidgets": {},
       "arguments": {},
       "data": "<div class=\"ansiout\">root\n |-- Elevation: integer (nullable = true)\n |-- Aspect: integer (nullable = true)\n |-- Slope: integer (nullable = true)\n |-- Horizontal_Distance_To_Hydrology: integer (nullable = true)\n |-- Vertical_Distance_To_Hydrology: integer (nullable = true)\n |-- Horizontal_Distance_To_Roadways: integer (nullable = true)\n |-- Hillshade_9am: integer (nullable = true)\n |-- Hillshade_Noon: integer (nullable = true)\n |-- Hillshade_3pm: integer (nullable = true)\n |-- Horizontal_Distance_To_Firepoints: integer (nullable = true)\n |-- Wilderness_Area: string (nullable = true)\n |-- Soil_Type: integer (nullable = true)\n |-- Cover_Type: integer (nullable = true)\n\n</div>",
       "datasetInfos": [],
       "metadata": {},
       "removedWidgets": [],
       "type": "html"
      }
     },
     "output_type": "display_data"
    }
   ],
   "source": [
    "fc_schema = ' Elevation INTEGER, Aspect INTEGER, Slope INTEGER, Horizontal_Distance_To_Hydrology INTEGER, Vertical_Distance_To_Hydrology INTEGER, \\\n",
    "              Horizontal_Distance_To_Roadways INTEGER, Hillshade_9am INTEGER, Hillshade_Noon INTEGER, Hillshade_3pm INTEGER, Horizontal_Distance_To_Firepoints INTEGER, \\\n",
    "              Wilderness_Area STRING, Soil_Type INTEGER, Cover_Type INTEGER'\n",
    " \n",
    "fc = (\n",
    "    spark.read\n",
    "    .option('delimiter', '\\t')\n",
    "    .option('header', True)\n",
    "    .schema(fc_schema)\n",
    "    .csv('/FileStore/tables/forest_cover.txt')\n",
    ") \n",
    "\n",
    "fc.printSchema()"
   ]
  },
  {
   "cell_type": "markdown",
   "metadata": {
    "application/vnd.databricks.v1+cell": {
     "cellMetadata": {},
     "inputWidgets": {},
     "nuid": "b9fa2dc8-46e9-4925-a4ab-6577727ac90b",
     "showTitle": false,
     "title": ""
    }
   },
   "source": [
    "Display the first 3 columns of the dataframe. Because there are so many columns, this will be done by obtaining a list of columns and then splitting them into two pieces."
   ]
  },
  {
   "cell_type": "code",
   "execution_count": 0,
   "metadata": {
    "application/vnd.databricks.v1+cell": {
     "cellMetadata": {},
     "inputWidgets": {},
     "nuid": "7e46cb5b-11e9-400a-984b-2272c8b60f52",
     "showTitle": false,
     "title": ""
    }
   },
   "outputs": [
    {
     "output_type": "display_data",
     "data": {
      "text/html": [
       "<style scoped>\n",
       "  .ansiout {\n",
       "    display: block;\n",
       "    unicode-bidi: embed;\n",
       "    white-space: pre-wrap;\n",
       "    word-wrap: break-word;\n",
       "    word-break: break-all;\n",
       "    font-family: \"Source Code Pro\", \"Menlo\", monospace;;\n",
       "    font-size: 13px;\n",
       "    color: #555;\n",
       "    margin-left: 4px;\n",
       "    line-height: 19px;\n",
       "  }\n",
       "</style>\n",
       "<div class=\"ansiout\">+---------+------+-----+--------------------------------+------------------------------+-------------------------------+\n",
       "Elevation|Aspect|Slope|Horizontal_Distance_To_Hydrology|Vertical_Distance_To_Hydrology|Horizontal_Distance_To_Roadways|\n",
       "+---------+------+-----+--------------------------------+------------------------------+-------------------------------+\n",
       "     2596|    51|    3|                             258|                             0|                            510|\n",
       "     2590|    56|    2|                             212|                            -6|                            390|\n",
       "     2804|   139|    9|                             268|                            65|                           3180|\n",
       "+---------+------+-----+--------------------------------+------------------------------+-------------------------------+\n",
       "only showing top 3 rows\n",
       "\n",
       "+-------------+--------------+-------------+---------------------------------+---------------+---------+----------+\n",
       "Hillshade_9am|Hillshade_Noon|Hillshade_3pm|Horizontal_Distance_To_Firepoints|Wilderness_Area|Soil_Type|Cover_Type|\n",
       "+-------------+--------------+-------------+---------------------------------+---------------+---------+----------+\n",
       "          221|           232|          148|                             6279|          Rawah|       29|         5|\n",
       "          220|           235|          151|                             6225|          Rawah|       29|         5|\n",
       "          234|           238|          135|                             6121|          Rawah|       12|         2|\n",
       "+-------------+--------------+-------------+---------------------------------+---------------+---------+----------+\n",
       "only showing top 3 rows\n",
       "\n",
       "</div>"
      ]
     },
     "metadata": {
      "application/vnd.databricks.v1+output": {
       "addedWidgets": {},
       "arguments": {},
       "data": "<div class=\"ansiout\">+---------+------+-----+--------------------------------+------------------------------+-------------------------------+\n|Elevation|Aspect|Slope|Horizontal_Distance_To_Hydrology|Vertical_Distance_To_Hydrology|Horizontal_Distance_To_Roadways|\n+---------+------+-----+--------------------------------+------------------------------+-------------------------------+\n|     2596|    51|    3|                             258|                             0|                            510|\n|     2590|    56|    2|                             212|                            -6|                            390|\n|     2804|   139|    9|                             268|                            65|                           3180|\n+---------+------+-----+--------------------------------+------------------------------+-------------------------------+\nonly showing top 3 rows\n\n+-------------+--------------+-------------+---------------------------------+---------------+---------+----------+\n|Hillshade_9am|Hillshade_Noon|Hillshade_3pm|Horizontal_Distance_To_Firepoints|Wilderness_Area|Soil_Type|Cover_Type|\n+-------------+--------------+-------------+---------------------------------+---------------+---------+----------+\n|          221|           232|          148|                             6279|          Rawah|       29|         5|\n|          220|           235|          151|                             6225|          Rawah|       29|         5|\n|          234|           238|          135|                             6121|          Rawah|       12|         2|\n+-------------+--------------+-------------+---------------------------------+---------------+---------+----------+\nonly showing top 3 rows\n\n</div>",
       "datasetInfos": [],
       "metadata": {},
       "removedWidgets": [],
       "type": "html"
      }
     },
     "output_type": "display_data"
    }
   ],
   "source": [
    "fc_columns = fc.columns\n",
    "\n",
    "fc.select(fc_columns[:6]).show(3)\n",
    "fc.select(fc_columns[6:]).show(3)"
   ]
  },
  {
   "cell_type": "markdown",
   "metadata": {
    "application/vnd.databricks.v1+cell": {
     "cellMetadata": {},
     "inputWidgets": {},
     "nuid": "72f5cdfa-cd6f-4e2a-9408-8d1b9719d426",
     "showTitle": false,
     "title": ""
    }
   },
   "source": [
    "Print the number of observations in the dataframe."
   ]
  },
  {
   "cell_type": "code",
   "execution_count": 0,
   "metadata": {
    "application/vnd.databricks.v1+cell": {
     "cellMetadata": {},
     "inputWidgets": {},
     "nuid": "80e1034d-4db0-4ef7-803f-3da2468905bd",
     "showTitle": false,
     "title": ""
    }
   },
   "outputs": [
    {
     "output_type": "display_data",
     "data": {
      "text/html": [
       "<style scoped>\n",
       "  .ansiout {\n",
       "    display: block;\n",
       "    unicode-bidi: embed;\n",
       "    white-space: pre-wrap;\n",
       "    word-wrap: break-word;\n",
       "    word-break: break-all;\n",
       "    font-family: \"Source Code Pro\", \"Menlo\", monospace;;\n",
       "    font-size: 13px;\n",
       "    color: #555;\n",
       "    margin-left: 4px;\n",
       "    line-height: 19px;\n",
       "  }\n",
       "</style>\n",
       "<div class=\"ansiout\">The number of observations in the dataframe is 15120\n",
       "</div>"
      ]
     },
     "metadata": {
      "application/vnd.databricks.v1+output": {
       "addedWidgets": {},
       "arguments": {},
       "data": "<div class=\"ansiout\">The number of observations in the dataframe is 15120\n</div>",
       "datasetInfos": [],
       "metadata": {},
       "removedWidgets": [],
       "type": "html"
      }
     },
     "output_type": "display_data"
    }
   ],
   "source": [
    "N = fc.count()\n",
    "\n",
    "print('The number of observations in the dataframe is',N)"
   ]
  },
  {
   "cell_type": "markdown",
   "metadata": {
    "application/vnd.databricks.v1+cell": {
     "cellMetadata": {},
     "inputWidgets": {},
     "nuid": "20211c5e-c321-4dea-bf9e-95cd96b47868",
     "showTitle": false,
     "title": ""
    }
   },
   "source": [
    "Determine the proportion of observations based on **Cover_Type**"
   ]
  },
  {
   "cell_type": "code",
   "execution_count": 0,
   "metadata": {
    "application/vnd.databricks.v1+cell": {
     "cellMetadata": {},
     "inputWidgets": {},
     "nuid": "136dc074-6e3c-4d9e-ac04-66f466e1501c",
     "showTitle": false,
     "title": ""
    }
   },
   "outputs": [
    {
     "output_type": "display_data",
     "data": {
      "text/html": [
       "<style scoped>\n",
       "  .ansiout {\n",
       "    display: block;\n",
       "    unicode-bidi: embed;\n",
       "    white-space: pre-wrap;\n",
       "    word-wrap: break-word;\n",
       "    word-break: break-all;\n",
       "    font-family: \"Source Code Pro\", \"Menlo\", monospace;;\n",
       "    font-size: 13px;\n",
       "    color: #555;\n",
       "    margin-left: 4px;\n",
       "    line-height: 19px;\n",
       "  }\n",
       "</style>\n",
       "<div class=\"ansiout\">+----------+------+\n",
       "Cover_Type|prop  |\n",
       "+----------+------+\n",
       "1         |0.1429|\n",
       "6         |0.1429|\n",
       "3         |0.1429|\n",
       "5         |0.1429|\n",
       "4         |0.1429|\n",
       "7         |0.1429|\n",
       "2         |0.1429|\n",
       "+----------+------+\n",
       "\n",
       "</div>"
      ]
     },
     "metadata": {
      "application/vnd.databricks.v1+output": {
       "addedWidgets": {},
       "arguments": {},
       "data": "<div class=\"ansiout\">+----------+------+\n|Cover_Type|prop  |\n+----------+------+\n|1         |0.1429|\n|6         |0.1429|\n|3         |0.1429|\n|5         |0.1429|\n|4         |0.1429|\n|7         |0.1429|\n|2         |0.1429|\n+----------+------+\n\n</div>",
       "datasetInfos": [],
       "metadata": {},
       "removedWidgets": [],
       "type": "html"
      }
     },
     "output_type": "display_data"
    }
   ],
   "source": [
    "fc_by_covertype = (\n",
    "    fc.groupBy(col('Cover_Type'))\n",
    "    .agg(\n",
    "        expr(f'ROUND(COUNT(*)/{N},4) as prop')\n",
    "     )\n",
    "        .select('Cover_Type','prop')\n",
    ").show(truncate=False)"
   ]
  },
  {
   "cell_type": "markdown",
   "metadata": {
    "application/vnd.databricks.v1+cell": {
     "cellMetadata": {},
     "inputWidgets": {},
     "nuid": "f360e200-ada5-482e-a7d7-66b0282da584",
     "showTitle": false,
     "title": ""
    }
   },
   "source": [
    "##Part C - Preprocessing and Splitting the Data\n",
    "In this part we will create the stages of a preprocessing pipeline. This pipeline will be used in fitting a Logistic Regression model and a Decision Tree model to the data. After applying the pipeline to the dataframe, the results will then be split into training and testing dataframes. Cover_Type will be used as the label value for both models, and all other columns will be used as features."
   ]
  },
  {
   "cell_type": "markdown",
   "metadata": {
    "application/vnd.databricks.v1+cell": {
     "cellMetadata": {},
     "inputWidgets": {},
     "nuid": "d274b9c3-b291-473a-98d6-84a37609c65e",
     "showTitle": false,
     "title": ""
    }
   },
   "source": [
    "Create the stages for the pipeline. There are two vector assemblers: one creates a features vector for Logistic Regression, and the other creates a features vector for Decision Trees."
   ]
  },
  {
   "cell_type": "code",
   "execution_count": 0,
   "metadata": {
    "application/vnd.databricks.v1+cell": {
     "cellMetadata": {},
     "inputWidgets": {},
     "nuid": "d6f268a0-612e-4c5e-a1fa-edb8b0278d75",
     "showTitle": false,
     "title": ""
    }
   },
   "outputs": [
    {
     "output_type": "display_data",
     "data": {
      "text/html": [
       "<style scoped>\n",
       "  .ansiout {\n",
       "    display: block;\n",
       "    unicode-bidi: embed;\n",
       "    white-space: pre-wrap;\n",
       "    word-wrap: break-word;\n",
       "    word-break: break-all;\n",
       "    font-family: \"Source Code Pro\", \"Menlo\", monospace;;\n",
       "    font-size: 13px;\n",
       "    color: #555;\n",
       "    margin-left: 4px;\n",
       "    line-height: 19px;\n",
       "  }\n",
       "</style>\n",
       "<div class=\"ansiout\"></div>"
      ]
     },
     "metadata": {
      "application/vnd.databricks.v1+output": {
       "addedWidgets": {},
       "arguments": {},
       "data": "<div class=\"ansiout\"></div>",
       "datasetInfos": [],
       "metadata": {},
       "removedWidgets": [],
       "type": "html"
      }
     },
     "output_type": "display_data"
    }
   ],
   "source": [
    "cat_features = ['Wilderness_Area', 'Soil_Type']\n",
    "num_features = [c for c in fc.columns[:-1] if c not in cat_features]\n",
    " \n",
    "ix_features = [c + '_ix' for c in cat_features]\n",
    "vec_features = [c + '_vec' for c in cat_features]\n",
    " \n",
    "feature_indexer = StringIndexer(inputCols=cat_features, outputCols=ix_features)\n",
    " \n",
    "encoder = OneHotEncoder(inputCols=ix_features, outputCols=vec_features, dropLast=False)\n",
    " \n",
    "assembler_lr = VectorAssembler(inputCols=num_features + vec_features, outputCol='features_lr')\n",
    "assembler_dt = VectorAssembler(inputCols=num_features + ix_features, outputCol='features_dt')"
   ]
  },
  {
   "cell_type": "markdown",
   "metadata": {
    "application/vnd.databricks.v1+cell": {
     "cellMetadata": {},
     "inputWidgets": {},
     "nuid": "2f93be66-7e5b-4554-9884-d6e3e04da835",
     "showTitle": false,
     "title": ""
    }
   },
   "source": [
    "Create the pipeline using the stages created above and apply it to the dataframe, creating a new processed dataframe. Persist the new dataframe, then display the first 5 records of Decision Tree features and labels."
   ]
  },
  {
   "cell_type": "code",
   "execution_count": 0,
   "metadata": {
    "application/vnd.databricks.v1+cell": {
     "cellMetadata": {},
     "inputWidgets": {},
     "nuid": "d69fcb18-eb6e-4eee-9263-f7b70ef144a8",
     "showTitle": false,
     "title": ""
    }
   },
   "outputs": [
    {
     "output_type": "display_data",
     "data": {
      "text/html": [
       "<style scoped>\n",
       "  .ansiout {\n",
       "    display: block;\n",
       "    unicode-bidi: embed;\n",
       "    white-space: pre-wrap;\n",
       "    word-wrap: break-word;\n",
       "    word-break: break-all;\n",
       "    font-family: \"Source Code Pro\", \"Menlo\", monospace;;\n",
       "    font-size: 13px;\n",
       "    color: #555;\n",
       "    margin-left: 4px;\n",
       "    line-height: 19px;\n",
       "  }\n",
       "</style>\n",
       "<div class=\"ansiout\">+-----------------------------------------------------------------------+----------+\n",
       "features_dt                                                            |Cover_Type|\n",
       "+-----------------------------------------------------------------------+----------+\n",
       "[2596.0,51.0,3.0,258.0,0.0,510.0,221.0,232.0,148.0,6279.0,2.0,1.0]     |5         |\n",
       "[2590.0,56.0,2.0,212.0,-6.0,390.0,220.0,235.0,151.0,6225.0,2.0,1.0]    |5         |\n",
       "[2804.0,139.0,9.0,268.0,65.0,3180.0,234.0,238.0,135.0,6121.0,2.0,20.0] |2         |\n",
       "[2785.0,155.0,18.0,242.0,118.0,3090.0,238.0,238.0,122.0,6211.0,2.0,6.0]|2         |\n",
       "[2595.0,45.0,2.0,153.0,-1.0,391.0,220.0,234.0,150.0,6172.0,2.0,1.0]    |5         |\n",
       "+-----------------------------------------------------------------------+----------+\n",
       "only showing top 5 rows\n",
       "\n",
       "</div>"
      ]
     },
     "metadata": {
      "application/vnd.databricks.v1+output": {
       "addedWidgets": {},
       "arguments": {},
       "data": "<div class=\"ansiout\">+-----------------------------------------------------------------------+----------+\n|features_dt                                                            |Cover_Type|\n+-----------------------------------------------------------------------+----------+\n|[2596.0,51.0,3.0,258.0,0.0,510.0,221.0,232.0,148.0,6279.0,2.0,1.0]     |5         |\n|[2590.0,56.0,2.0,212.0,-6.0,390.0,220.0,235.0,151.0,6225.0,2.0,1.0]    |5         |\n|[2804.0,139.0,9.0,268.0,65.0,3180.0,234.0,238.0,135.0,6121.0,2.0,20.0] |2         |\n|[2785.0,155.0,18.0,242.0,118.0,3090.0,238.0,238.0,122.0,6211.0,2.0,6.0]|2         |\n|[2595.0,45.0,2.0,153.0,-1.0,391.0,220.0,234.0,150.0,6172.0,2.0,1.0]    |5         |\n+-----------------------------------------------------------------------+----------+\nonly showing top 5 rows\n\n</div>",
       "datasetInfos": [],
       "metadata": {},
       "removedWidgets": [],
       "type": "html"
      }
     },
     "output_type": "display_data"
    }
   ],
   "source": [
    "fc_pipe = Pipeline(stages=[feature_indexer, encoder, assembler_lr, assembler_dt]).fit(fc)\n",
    "fc_proc = fc_pipe.transform(fc)\n",
    " \n",
    "fc_proc.persist()\n",
    " \n",
    "fc_proc.select(['features_dt', 'Cover_Type']).show(5, truncate=False)"
   ]
  },
  {
   "cell_type": "markdown",
   "metadata": {
    "application/vnd.databricks.v1+cell": {
     "cellMetadata": {},
     "inputWidgets": {},
     "nuid": "d737d104-c7a0-4d35-9786-09ff8df45910",
     "showTitle": false,
     "title": ""
    }
   },
   "source": [
    "Split the processed dataframe into two smaller dataframes called **train** and **test**. The **train** dataframe contains 80% of the observations and will be used to train both the Linear Regression and Decision Tree models. The **test** dataframe contains 20% of the observations and will be used to assess the performance of the final selected model on out-of-sample data. After splitting the data, persist the **train** dataframe and print a count of the number of observations in each dataframe."
   ]
  },
  {
   "cell_type": "code",
   "execution_count": 0,
   "metadata": {
    "application/vnd.databricks.v1+cell": {
     "cellMetadata": {},
     "inputWidgets": {},
     "nuid": "8f2eb553-27f3-4f0c-8020-3a137a78fabf",
     "showTitle": false,
     "title": ""
    }
   },
   "outputs": [
    {
     "output_type": "display_data",
     "data": {
      "text/html": [
       "<style scoped>\n",
       "  .ansiout {\n",
       "    display: block;\n",
       "    unicode-bidi: embed;\n",
       "    white-space: pre-wrap;\n",
       "    word-wrap: break-word;\n",
       "    word-break: break-all;\n",
       "    font-family: \"Source Code Pro\", \"Menlo\", monospace;;\n",
       "    font-size: 13px;\n",
       "    color: #555;\n",
       "    margin-left: 4px;\n",
       "    line-height: 19px;\n",
       "  }\n",
       "</style>\n",
       "<div class=\"ansiout\">Training Observations: 12118\n",
       "Testing Observations:  3002\n",
       "</div>"
      ]
     },
     "metadata": {
      "application/vnd.databricks.v1+output": {
       "addedWidgets": {},
       "arguments": {},
       "data": "<div class=\"ansiout\">Training Observations: 12118\nTesting Observations:  3002\n</div>",
       "datasetInfos": [],
       "metadata": {},
       "removedWidgets": [],
       "type": "html"
      }
     },
     "output_type": "display_data"
    }
   ],
   "source": [
    "splits = fc_proc.randomSplit([0.8, 0.2], seed=1)\n",
    "train = splits[0]\n",
    "test = splits[1]\n",
    "\n",
    "train.persist()\n",
    "\n",
    "print('Training Observations:',train.count())\n",
    "print('Testing Observations: ',test.count())"
   ]
  },
  {
   "cell_type": "markdown",
   "metadata": {
    "application/vnd.databricks.v1+cell": {
     "cellMetadata": {},
     "inputWidgets": {},
     "nuid": "99e90f4f-6c48-4f95-aef1-1c25c532f3b6",
     "showTitle": false,
     "title": ""
    }
   },
   "source": [
    "##Part D - Hyperparameter Tuning for Logistic Regression\n",
    "In this part we will first create an accuracy evaluator to use in determining the accuracy of both models. Then we will use Grid Search and Cross Validation to perform hyperparameter tuning for the Logistic Regression model, and then identify the optimal model."
   ]
  },
  {
   "cell_type": "markdown",
   "metadata": {
    "application/vnd.databricks.v1+cell": {
     "cellMetadata": {},
     "inputWidgets": {},
     "nuid": "162cadf4-edb2-4467-91be-f219564d6272",
     "showTitle": false,
     "title": ""
    }
   },
   "source": [
    "Create an instance of MulticlassClassificationEvaluator to calculate the accuracy metric for each model."
   ]
  },
  {
   "cell_type": "code",
   "execution_count": 0,
   "metadata": {
    "application/vnd.databricks.v1+cell": {
     "cellMetadata": {},
     "inputWidgets": {},
     "nuid": "21df65fa-9847-4f75-8433-e4059eea414a",
     "showTitle": false,
     "title": ""
    }
   },
   "outputs": [
    {
     "output_type": "display_data",
     "data": {
      "text/html": [
       "<style scoped>\n",
       "  .ansiout {\n",
       "    display: block;\n",
       "    unicode-bidi: embed;\n",
       "    white-space: pre-wrap;\n",
       "    word-wrap: break-word;\n",
       "    word-break: break-all;\n",
       "    font-family: \"Source Code Pro\", \"Menlo\", monospace;;\n",
       "    font-size: 13px;\n",
       "    color: #555;\n",
       "    margin-left: 4px;\n",
       "    line-height: 19px;\n",
       "  }\n",
       "</style>\n",
       "<div class=\"ansiout\"></div>"
      ]
     },
     "metadata": {
      "application/vnd.databricks.v1+output": {
       "addedWidgets": {},
       "arguments": {},
       "data": "<div class=\"ansiout\"></div>",
       "datasetInfos": [],
       "metadata": {},
       "removedWidgets": [],
       "type": "html"
      }
     },
     "output_type": "display_data"
    }
   ],
   "source": [
    "accuracy_eval = MulticlassClassificationEvaluator(\n",
    "    predictionCol='prediction', labelCol='Cover_Type', metricName='accuracy')"
   ]
  },
  {
   "cell_type": "markdown",
   "metadata": {
    "application/vnd.databricks.v1+cell": {
     "cellMetadata": {},
     "inputWidgets": {},
     "nuid": "64c11157-6189-4a31-8a5c-8c6f744c80f8",
     "showTitle": false,
     "title": ""
    }
   },
   "source": [
    "Set up a grid search and cross-validation to perform hyperparameter tuning for the Logistic Regression model."
   ]
  },
  {
   "cell_type": "code",
   "execution_count": 0,
   "metadata": {
    "application/vnd.databricks.v1+cell": {
     "cellMetadata": {},
     "inputWidgets": {},
     "nuid": "94c502e7-141d-4810-b46f-c6ad386940a4",
     "showTitle": false,
     "title": ""
    }
   },
   "outputs": [
    {
     "output_type": "display_data",
     "data": {
      "text/html": [
       "<style scoped>\n",
       "  .ansiout {\n",
       "    display: block;\n",
       "    unicode-bidi: embed;\n",
       "    white-space: pre-wrap;\n",
       "    word-wrap: break-word;\n",
       "    word-break: break-all;\n",
       "    font-family: \"Source Code Pro\", \"Menlo\", monospace;;\n",
       "    font-size: 13px;\n",
       "    color: #555;\n",
       "    margin-left: 4px;\n",
       "    line-height: 19px;\n",
       "  }\n",
       "</style>\n",
       "<div class=\"ansiout\"></div>"
      ]
     },
     "metadata": {
      "application/vnd.databricks.v1+output": {
       "addedWidgets": {},
       "arguments": {},
       "data": "<div class=\"ansiout\"></div>",
       "datasetInfos": [],
       "metadata": {},
       "removedWidgets": [],
       "type": "html"
      }
     },
     "output_type": "display_data"
    }
   ],
   "source": [
    "logreg = LogisticRegression(featuresCol='features_lr', labelCol='Cover_Type')\n",
    " \n",
    "param_grid = (ParamGridBuilder()\n",
    "              .addGrid(logreg.regParam, [0.0001, 0.001, 0.01, 0.1, 1])\n",
    "              .addGrid(logreg.elasticNetParam, [0, 0.5, 1])\n",
    "             ).build()\n",
    " \n",
    "cv = CrossValidator(estimator=logreg, estimatorParamMaps=param_grid, evaluator=accuracy_eval, \n",
    "                    numFolds=5, seed=1, parallelism=6)\n",
    " \n",
    "cv_model = cv.fit(train)"
   ]
  },
  {
   "cell_type": "markdown",
   "metadata": {
    "application/vnd.databricks.v1+cell": {
     "cellMetadata": {},
     "inputWidgets": {},
     "nuid": "8ddf5dd7-f4c5-4d16-bd0d-45c8dc424af9",
     "showTitle": false,
     "title": ""
    }
   },
   "source": [
    "Identify the optimal model found by the grid search algorithm and display the results."
   ]
  },
  {
   "cell_type": "code",
   "execution_count": 0,
   "metadata": {
    "application/vnd.databricks.v1+cell": {
     "cellMetadata": {},
     "inputWidgets": {},
     "nuid": "e4d8d240-0cf9-4a86-a931-d8944549a8e1",
     "showTitle": false,
     "title": ""
    }
   },
   "outputs": [
    {
     "output_type": "display_data",
     "data": {
      "text/html": [
       "<style scoped>\n",
       "  .ansiout {\n",
       "    display: block;\n",
       "    unicode-bidi: embed;\n",
       "    white-space: pre-wrap;\n",
       "    word-wrap: break-word;\n",
       "    word-break: break-all;\n",
       "    font-family: \"Source Code Pro\", \"Menlo\", monospace;;\n",
       "    font-size: 13px;\n",
       "    color: #555;\n",
       "    margin-left: 4px;\n",
       "    line-height: 19px;\n",
       "  }\n",
       "</style>\n",
       "<div class=\"ansiout\">Max CV Score:   0.7001\n",
       "Optimal Lambda: 0.0001\n",
       "Optimal Alpha:  0.0\n",
       "</div>"
      ]
     },
     "metadata": {
      "application/vnd.databricks.v1+output": {
       "addedWidgets": {},
       "arguments": {},
       "data": "<div class=\"ansiout\">Max CV Score:   0.7001\nOptimal Lambda: 0.0001\nOptimal Alpha:  0.0\n</div>",
       "datasetInfos": [],
       "metadata": {},
       "removedWidgets": [],
       "type": "html"
      }
     },
     "output_type": "display_data"
    }
   ],
   "source": [
    "lr_model = cv_model.bestModel\n",
    " \n",
    "optimal_regParam = lr_model.getRegParam()\n",
    "optimal_enetParam = lr_model.getElasticNetParam()\n",
    " \n",
    "print('Max CV Score:  ', round(max(cv_model.avgMetrics),4))\n",
    "print('Optimal Lambda:', optimal_regParam)\n",
    "print('Optimal Alpha: ', optimal_enetParam)"
   ]
  },
  {
   "cell_type": "markdown",
   "metadata": {
    "application/vnd.databricks.v1+cell": {
     "cellMetadata": {},
     "inputWidgets": {},
     "nuid": "2b7c1120-62d7-41be-9307-ecb63e238f6a",
     "showTitle": false,
     "title": ""
    }
   },
   "source": [
    "Generate a plot to display the results of the cross-validation."
   ]
  },
  {
   "cell_type": "code",
   "execution_count": 0,
   "metadata": {
    "application/vnd.databricks.v1+cell": {
     "cellMetadata": {},
     "inputWidgets": {},
     "nuid": "6950e3ef-6164-4eb4-824d-afe6ba9ba85e",
     "showTitle": false,
     "title": ""
    }
   },
   "outputs": [
    {
     "output_type": "display_data",
     "data": {
      "image/png": "[encoded data removed]"
     },
     "metadata": {
      "application/vnd.databricks.v1+output": {
       "addedWidgets": {},
       "arguments": {},
       "data": "data:image/png;base64,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",
       "datasetInfos": [],
       "metadata": {
        "imageDimensions": {
         "height": 266,
         "width": 386
        }
       },
       "removedWidgets": [],
       "type": "image"
      },
      "image/png": {
       "height": 266,
       "width": 386
      }
     },
     "output_type": "display_data"
    }
   ],
   "source": [
    "model_params = cv_model.getEstimatorParamMaps()\n",
    "\n",
    "lr_cv_summary_list = []\n",
    "for param_set, acc in zip(model_params, cv_model.avgMetrics):\n",
    "    new_set = list(param_set.values()) + [acc]\n",
    "    lr_cv_summary_list.append(new_set)\n",
    "\n",
    "cv_summary = pd.DataFrame(lr_cv_summary_list,\n",
    "                          columns=['reg_param', 'enet_param', 'acc'])\n",
    "\n",
    "for en in cv_summary.enet_param.unique():\n",
    "    sel = cv_summary.enet_param == en\n",
    "    plt.plot(cv_summary.reg_param[sel], cv_summary.acc[sel], label=en)\n",
    "    plt.scatter(cv_summary.reg_param[sel], cv_summary.acc[sel])\n",
    "\n",
    "plt.legend()\n",
    "plt.xscale('log')\n",
    "plt.grid()\n",
    "plt.xlabel('Regularization Parameter')\n",
    "plt.ylabel('Cross-Validation Score')\n",
    "plt.show()"
   ]
  },
  {
   "cell_type": "markdown",
   "metadata": {
    "application/vnd.databricks.v1+cell": {
     "cellMetadata": {},
     "inputWidgets": {},
     "nuid": "77f4ab07-9a95-40a8-b33f-29f0b38309e1",
     "showTitle": false,
     "title": ""
    }
   },
   "source": [
    "##Part E - Hyperparameter Tuning for Decision Tree\n",
    "In this part we will use Grid Search and Cross Validation to perform hyperparameter tuning for the Decision Tree model, and then identify the optimal model."
   ]
  },
  {
   "cell_type": "markdown",
   "metadata": {
    "application/vnd.databricks.v1+cell": {
     "cellMetadata": {},
     "inputWidgets": {},
     "nuid": "44b7ed3e-6082-4a02-96d8-f65efc564727",
     "showTitle": false,
     "title": ""
    }
   },
   "source": [
    "Set up a grid search and cross-validation to perform hyperparameter tuning for the Decision Trees model."
   ]
  },
  {
   "cell_type": "code",
   "execution_count": 0,
   "metadata": {
    "application/vnd.databricks.v1+cell": {
     "cellMetadata": {},
     "inputWidgets": {},
     "nuid": "3f2558bd-b167-42a1-ae4f-eefbcf76a784",
     "showTitle": false,
     "title": ""
    }
   },
   "outputs": [
    {
     "output_type": "display_data",
     "data": {
      "text/html": [
       "<style scoped>\n",
       "  .ansiout {\n",
       "    display: block;\n",
       "    unicode-bidi: embed;\n",
       "    white-space: pre-wrap;\n",
       "    word-wrap: break-word;\n",
       "    word-break: break-all;\n",
       "    font-family: \"Source Code Pro\", \"Menlo\", monospace;;\n",
       "    font-size: 13px;\n",
       "    color: #555;\n",
       "    margin-left: 4px;\n",
       "    line-height: 19px;\n",
       "  }\n",
       "</style>\n",
       "<div class=\"ansiout\"></div>"
      ]
     },
     "metadata": {
      "application/vnd.databricks.v1+output": {
       "addedWidgets": {},
       "arguments": {},
       "data": "<div class=\"ansiout\"></div>",
       "datasetInfos": [],
       "metadata": {},
       "removedWidgets": [],
       "type": "html"
      }
     },
     "output_type": "display_data"
    }
   ],
   "source": [
    "dtree = DecisionTreeClassifier(featuresCol='features_dt', labelCol='Cover_Type', maxBins=38, seed=1)\n",
    " \n",
    "param_grid = (ParamGridBuilder()\n",
    "              .addGrid(dtree.maxDepth, [4, 6, 8, 10, 12, 14, 16, 18, 20, 22, 24])\n",
    "              .addGrid(dtree.minInstancesPerNode, [1, 2, 4])\n",
    "             ).build()\n",
    " \n",
    "cv = CrossValidator(estimator=dtree, estimatorParamMaps=param_grid, numFolds=5, \n",
    "                    evaluator=accuracy_eval, seed=1, parallelism=8)\n",
    " \n",
    "cv_model = cv.fit(train)"
   ]
  },
  {
   "cell_type": "markdown",
   "metadata": {
    "application/vnd.databricks.v1+cell": {
     "cellMetadata": {},
     "inputWidgets": {},
     "nuid": "b6165b0c-7735-4709-be32-6e08a6738f82",
     "showTitle": false,
     "title": ""
    }
   },
   "source": [
    "Identify the optimal model found by the grid search algorithm and display the results."
   ]
  },
  {
   "cell_type": "code",
   "execution_count": 0,
   "metadata": {
    "application/vnd.databricks.v1+cell": {
     "cellMetadata": {},
     "inputWidgets": {},
     "nuid": "0adf6ecd-d146-486b-9a23-3f03615515fb",
     "showTitle": false,
     "title": ""
    }
   },
   "outputs": [
    {
     "output_type": "display_data",
     "data": {
      "text/html": [
       "<style scoped>\n",
       "  .ansiout {\n",
       "    display: block;\n",
       "    unicode-bidi: embed;\n",
       "    white-space: pre-wrap;\n",
       "    word-wrap: break-word;\n",
       "    word-break: break-all;\n",
       "    font-family: \"Source Code Pro\", \"Menlo\", monospace;;\n",
       "    font-size: 13px;\n",
       "    color: #555;\n",
       "    margin-left: 4px;\n",
       "    line-height: 19px;\n",
       "  }\n",
       "</style>\n",
       "<div class=\"ansiout\">Max CV Score:    0.7775\n",
       "Optimal Depth:   16\n",
       "Optimal MinInst: 1\n",
       "</div>"
      ]
     },
     "metadata": {
      "application/vnd.databricks.v1+output": {
       "addedWidgets": {},
       "arguments": {},
       "data": "<div class=\"ansiout\">Max CV Score:    0.7775\nOptimal Depth:   16\nOptimal MinInst: 1\n</div>",
       "datasetInfos": [],
       "metadata": {},
       "removedWidgets": [],
       "type": "html"
      }
     },
     "output_type": "display_data"
    }
   ],
   "source": [
    "dt_model = cv_model.bestModel\n",
    "opt_maxDepth = dt_model.getMaxDepth()\n",
    "opt_minInstancesPerNode = dt_model.getMinInstancesPerNode()\n",
    " \n",
    "print('Max CV Score:   ', round(max(cv_model.avgMetrics),4))\n",
    "print('Optimal Depth:  ', opt_maxDepth)\n",
    "print('Optimal MinInst:', opt_minInstancesPerNode)"
   ]
  },
  {
   "cell_type": "markdown",
   "metadata": {
    "application/vnd.databricks.v1+cell": {
     "cellMetadata": {},
     "inputWidgets": {},
     "nuid": "307fc3cd-8b12-499e-bdef-80bf30d4aaae",
     "showTitle": false,
     "title": ""
    }
   },
   "source": [
    "Generate a plot to display the results of the cross-validation."
   ]
  },
  {
   "cell_type": "code",
   "execution_count": 0,
   "metadata": {
    "application/vnd.databricks.v1+cell": {
     "cellMetadata": {},
     "inputWidgets": {},
     "nuid": "95cdcaaf-08cc-4ca1-ba4b-4d7c11d59c97",
     "showTitle": false,
     "title": ""
    }
   },
   "outputs": [
    {
     "output_type": "display_data",
     "data": {
      "image/png": "[encoded data removed]"
     },
     "metadata": {
      "application/vnd.databricks.v1+output": {
       "addedWidgets": {},
       "arguments": {},
       "data": "data:image/png;base64,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",
       "datasetInfos": [],
       "metadata": {
        "imageDimensions": {
         "height": 262,
         "width": 392
        }
       },
       "removedWidgets": [],
       "type": "image"
      },
      "image/png": {
       "height": 262,
       "width": 392
      }
     },
     "output_type": "display_data"
    }
   ],
   "source": [
    "model_params = cv_model.getEstimatorParamMaps()\n",
    "\n",
    "dt_cv_summary_list = []\n",
    "for param_set, acc in zip(model_params, cv_model.avgMetrics):\n",
    "    new_set = list(param_set.values()) + [acc]\n",
    "    dt_cv_summary_list.append(new_set)\n",
    "\n",
    "cv_summary = pd.DataFrame(dt_cv_summary_list,\n",
    "                          columns=['maxDepth', 'minInst', 'acc'])\n",
    "\n",
    "for mi in cv_summary.minInst.unique():\n",
    "    sel = cv_summary.minInst == mi\n",
    "    plt.plot(cv_summary.maxDepth[sel], cv_summary.acc[sel], label=mi)\n",
    "    plt.scatter(cv_summary.maxDepth[sel], cv_summary.acc[sel])\n",
    "\n",
    "plt.legend()\n",
    "plt.grid()\n",
    "plt.xticks(range(4,26,2))\n",
    "plt.xlabel('Max Depth')\n",
    "plt.ylabel('Cross-Validation Score')\n",
    "plt.show()"
   ]
  },
  {
   "cell_type": "markdown",
   "metadata": {
    "application/vnd.databricks.v1+cell": {
     "cellMetadata": {},
     "inputWidgets": {},
     "nuid": "78b1a128-73d2-4cd6-87e4-05e0cbf5ff46",
     "showTitle": false,
     "title": ""
    }
   },
   "source": [
    "Display the feature importance for each of the features used in the optimal Decision Tree model."
   ]
  },
  {
   "cell_type": "code",
   "execution_count": 0,
   "metadata": {
    "application/vnd.databricks.v1+cell": {
     "cellMetadata": {},
     "inputWidgets": {},
     "nuid": "fd2c37f9-c1ad-4920-8fdc-bbfc8eeb1ea3",
     "showTitle": false,
     "title": ""
    }
   },
   "outputs": [
    {
     "output_type": "display_data",
     "data": {
      "text/html": [
       "<style scoped>\n",
       "  .ansiout {\n",
       "    display: block;\n",
       "    unicode-bidi: embed;\n",
       "    white-space: pre-wrap;\n",
       "    word-wrap: break-word;\n",
       "    word-break: break-all;\n",
       "    font-family: \"Source Code Pro\", \"Menlo\", monospace;;\n",
       "    font-size: 13px;\n",
       "    color: #555;\n",
       "    margin-left: 4px;\n",
       "    line-height: 19px;\n",
       "  }\n",
       "</style>\n",
       "<div class=\"ansiout\">Out[17]: </div>"
      ]
     },
     "metadata": {
      "application/vnd.databricks.v1+output": {
       "addedWidgets": {},
       "arguments": {},
       "data": "<div class=\"ansiout\">Out[17]: </div>",
       "datasetInfos": [],
       "metadata": {},
       "removedWidgets": [],
       "type": "html"
      }
     },
     "output_type": "display_data"
    },
    {
     "output_type": "display_data",
     "data": {
      "text/html": [
       "<div>\n",
       "<style scoped>\n",
       "    .dataframe tbody tr th:only-of-type {\n",
       "        vertical-align: middle;\n",
       "    }\n",
       "\n",
       "    .dataframe tbody tr th {\n",
       "        vertical-align: top;\n",
       "    }\n",
       "\n",
       "    .dataframe thead th {\n",
       "        text-align: right;\n",
       "    }\n",
       "</style>\n",
       "<table border=\"1\" class=\"dataframe\">\n",
       "  <thead>\n",
       "    <tr style=\"text-align: right;\">\n",
       "      <th></th>\n",
       "      <th>feature</th>\n",
       "      <th>importance</th>\n",
       "    </tr>\n",
       "  </thead>\n",
       "  <tbody>\n",
       "    <tr>\n",
       "      <th>0</th>\n",
       "      <td>Elevation</td>\n",
       "      <td>0.394260</td>\n",
       "    </tr>\n",
       "    <tr>\n",
       "      <th>1</th>\n",
       "      <td>Aspect</td>\n",
       "      <td>0.048116</td>\n",
       "    </tr>\n",
       "    <tr>\n",
       "      <th>2</th>\n",
       "      <td>Slope</td>\n",
       "      <td>0.026453</td>\n",
       "    </tr>\n",
       "    <tr>\n",
       "      <th>3</th>\n",
       "      <td>Horizontal_Distance_To_Hydrology</td>\n",
       "      <td>0.078278</td>\n",
       "    </tr>\n",
       "    <tr>\n",
       "      <th>4</th>\n",
       "      <td>Vertical_Distance_To_Hydrology</td>\n",
       "      <td>0.036748</td>\n",
       "    </tr>\n",
       "    <tr>\n",
       "      <th>5</th>\n",
       "      <td>Horizontal_Distance_To_Roadways</td>\n",
       "      <td>0.070875</td>\n",
       "    </tr>\n",
       "    <tr>\n",
       "      <th>6</th>\n",
       "      <td>Hillshade_9am</td>\n",
       "      <td>0.025840</td>\n",
       "    </tr>\n",
       "    <tr>\n",
       "      <th>7</th>\n",
       "      <td>Hillshade_Noon</td>\n",
       "      <td>0.023199</td>\n",
       "    </tr>\n",
       "    <tr>\n",
       "      <th>8</th>\n",
       "      <td>Hillshade_3pm</td>\n",
       "      <td>0.017314</td>\n",
       "    </tr>\n",
       "    <tr>\n",
       "      <th>9</th>\n",
       "      <td>Horizontal_Distance_To_Firepoints</td>\n",
       "      <td>0.079365</td>\n",
       "    </tr>\n",
       "    <tr>\n",
       "      <th>10</th>\n",
       "      <td>Wilderness_Area</td>\n",
       "      <td>0.057567</td>\n",
       "    </tr>\n",
       "    <tr>\n",
       "      <th>11</th>\n",
       "      <td>Soil_Type</td>\n",
       "      <td>0.141985</td>\n",
       "    </tr>\n",
       "  </tbody>\n",
       "</table>\n",
       "</div>"
      ]
     },
     "metadata": {
      "application/vnd.databricks.v1+output": {
       "addedWidgets": {},
       "arguments": {},
       "data": "<div>\n<style scoped>\n    .dataframe tbody tr th:only-of-type {\n        vertical-align: middle;\n    }\n\n    .dataframe tbody tr th {\n        vertical-align: top;\n    }\n\n    .dataframe thead th {\n        text-align: right;\n    }\n</style>\n<table border=\"1\" class=\"dataframe\">\n  <thead>\n    <tr style=\"text-align: right;\">\n      <th></th>\n      <th>feature</th>\n      <th>importance</th>\n    </tr>\n  </thead>\n  <tbody>\n    <tr>\n      <th>0</th>\n      <td>Elevation</td>\n      <td>0.394260</td>\n    </tr>\n    <tr>\n      <th>1</th>\n      <td>Aspect</td>\n      <td>0.048116</td>\n    </tr>\n    <tr>\n      <th>2</th>\n      <td>Slope</td>\n      <td>0.026453</td>\n    </tr>\n    <tr>\n      <th>3</th>\n      <td>Horizontal_Distance_To_Hydrology</td>\n      <td>0.078278</td>\n    </tr>\n    <tr>\n      <th>4</th>\n      <td>Vertical_Distance_To_Hydrology</td>\n      <td>0.036748</td>\n    </tr>\n    <tr>\n      <th>5</th>\n      <td>Horizontal_Distance_To_Roadways</td>\n      <td>0.070875</td>\n    </tr>\n    <tr>\n      <th>6</th>\n      <td>Hillshade_9am</td>\n      <td>0.025840</td>\n    </tr>\n    <tr>\n      <th>7</th>\n      <td>Hillshade_Noon</td>\n      <td>0.023199</td>\n    </tr>\n    <tr>\n      <th>8</th>\n      <td>Hillshade_3pm</td>\n      <td>0.017314</td>\n    </tr>\n    <tr>\n      <th>9</th>\n      <td>Horizontal_Distance_To_Firepoints</td>\n      <td>0.079365</td>\n    </tr>\n    <tr>\n      <th>10</th>\n      <td>Wilderness_Area</td>\n      <td>0.057567</td>\n    </tr>\n    <tr>\n      <th>11</th>\n      <td>Soil_Type</td>\n      <td>0.141985</td>\n    </tr>\n  </tbody>\n</table>\n</div>",
       "datasetInfos": [],
       "metadata": {},
       "removedWidgets": [],
       "textData": null,
       "type": "htmlSandbox"
      }
     },
     "output_type": "display_data"
    }
   ],
   "source": [
    "features = num_features + cat_features\n",
    "pd.DataFrame({\n",
    "    'feature':features,\n",
    "    'importance':dt_model.featureImportances\n",
    "})"
   ]
  },
  {
   "cell_type": "markdown",
   "metadata": {
    "application/vnd.databricks.v1+cell": {
     "cellMetadata": {},
     "inputWidgets": {},
     "nuid": "5b430b93-e05c-42fd-8ece-17556a17eec4",
     "showTitle": false,
     "title": ""
    }
   },
   "source": [
    "##Part F - Identifying and Evaluating the Final Model\n",
    "In this part we will determine which of the two models appears to have better performance on out-of-sample records, and then use that model to evaulate the observations in the **test** dataframe."
   ]
  },
  {
   "cell_type": "markdown",
   "metadata": {
    "application/vnd.databricks.v1+cell": {
     "cellMetadata": {},
     "inputWidgets": {},
     "nuid": "c258c6b4-03a2-4eed-a291-4afc3d5684a8",
     "showTitle": false,
     "title": ""
    }
   },
   "source": [
    "Explain which of the two models - Linear Regression or Decision Trees - seems to perform better, using cross-validation scores as a basis for comparison. Provide justification for your answer."
   ]
  },
  {
   "cell_type": "markdown",
   "metadata": {
    "application/vnd.databricks.v1+cell": {
     "cellMetadata": {},
     "inputWidgets": {},
     "nuid": "aae5c332-b262-4da8-a565-5cb7bcdf0b50",
     "showTitle": false,
     "title": ""
    }
   },
   "source": [
    "In comparing the cross-validation (CV) scores, we have Linear Regression scoring **0.7001** (70.0%) and Decision Trees scoring **0.7775** (77.8%). The CV process, which evaluates each model using a k-fold cycle in which data segments are are excluded to simulate out-of-sample processing and the results then rolled into a composite average, is designed to simulate out-of-sample predictions and therfore can be used as a reasonably reliable tool for comparing the expected accuracy of various predictive models. Based on this, we conclude the 7.8% higher CV score for **Decision Trees** over Linear Regression makes it the optimal model for use with out-of-sample observations."
   ]
  },
  {
   "cell_type": "markdown",
   "metadata": {
    "application/vnd.databricks.v1+cell": {
     "cellMetadata": {},
     "inputWidgets": {},
     "nuid": "663ec1ed-6dcc-4c81-8c1a-54c9de322c9b",
     "showTitle": false,
     "title": ""
    }
   },
   "source": [
    "Using the optimal model selected, generate predictions for the **test** dataframe. Store the results in a new dataframe, and display the first 10 rows of results."
   ]
  },
  {
   "cell_type": "code",
   "execution_count": 0,
   "metadata": {
    "application/vnd.databricks.v1+cell": {
     "cellMetadata": {},
     "inputWidgets": {},
     "nuid": "5024e622-2eb9-4281-9fc2-7e32eb1c7c2a",
     "showTitle": false,
     "title": ""
    }
   },
   "outputs": [
    {
     "output_type": "display_data",
     "data": {
      "text/html": [
       "<style scoped>\n",
       "  .ansiout {\n",
       "    display: block;\n",
       "    unicode-bidi: embed;\n",
       "    white-space: pre-wrap;\n",
       "    word-wrap: break-word;\n",
       "    word-break: break-all;\n",
       "    font-family: \"Source Code Pro\", \"Menlo\", monospace;;\n",
       "    font-size: 13px;\n",
       "    color: #555;\n",
       "    margin-left: 4px;\n",
       "    line-height: 19px;\n",
       "  }\n",
       "</style>\n",
       "<div class=\"ansiout\">+----------------------------------------------------------------------------------------------------------------------------------+----------+----------+\n",
       "probability                                                                                                                       |prediction|Cover_Type|\n",
       "+----------------------------------------------------------------------------------------------------------------------------------+----------+----------+\n",
       "[0.0,0.00631911532385466,0.020537124802527645,0.42022116903633494,0.09636650868878358,0.009478672985781991,0.4470774091627172,0.0]|6.0       |6         |\n",
       "[0.0,0.00631911532385466,0.020537124802527645,0.42022116903633494,0.09636650868878358,0.009478672985781991,0.4470774091627172,0.0]|6.0       |6         |\n",
       "[0.0,0.00631911532385466,0.020537124802527645,0.42022116903633494,0.09636650868878358,0.009478672985781991,0.4470774091627172,0.0]|6.0       |6         |\n",
       "[0.0,0.0,0.0,0.6666666666666666,0.3333333333333333,0.0,0.0,0.0]                                                                   |3.0       |3         |\n",
       "[0.0,0.00631911532385466,0.020537124802527645,0.42022116903633494,0.09636650868878358,0.009478672985781991,0.4470774091627172,0.0]|6.0       |6         |\n",
       "[0.0,0.0,0.0,0.6666666666666666,0.3333333333333333,0.0,0.0,0.0]                                                                   |3.0       |3         |\n",
       "[0.0,0.00631911532385466,0.020537124802527645,0.42022116903633494,0.09636650868878358,0.009478672985781991,0.4470774091627172,0.0]|6.0       |6         |\n",
       "[0.0,0.0,0.0,0.6666666666666666,0.3333333333333333,0.0,0.0,0.0]                                                                   |3.0       |3         |\n",
       "[0.0,0.0,0.0,0.0873015873015873,0.8571428571428571,0.0,0.05555555555555555,0.0]                                                   |4.0       |3         |\n",
       "[0.0,0.00631911532385466,0.020537124802527645,0.42022116903633494,0.09636650868878358,0.009478672985781991,0.4470774091627172,0.0]|6.0       |6         |\n",
       "+----------------------------------------------------------------------------------------------------------------------------------+----------+----------+\n",
       "only showing top 10 rows\n",
       "\n",
       "</div>"
      ]
     },
     "metadata": {
      "application/vnd.databricks.v1+output": {
       "addedWidgets": {},
       "arguments": {},
       "data": "<div class=\"ansiout\">+----------------------------------------------------------------------------------------------------------------------------------+----------+----------+\n|probability                                                                                                                       |prediction|Cover_Type|\n+----------------------------------------------------------------------------------------------------------------------------------+----------+----------+\n|[0.0,0.00631911532385466,0.020537124802527645,0.42022116903633494,0.09636650868878358,0.009478672985781991,0.4470774091627172,0.0]|6.0       |6         |\n|[0.0,0.00631911532385466,0.020537124802527645,0.42022116903633494,0.09636650868878358,0.009478672985781991,0.4470774091627172,0.0]|6.0       |6         |\n|[0.0,0.00631911532385466,0.020537124802527645,0.42022116903633494,0.09636650868878358,0.009478672985781991,0.4470774091627172,0.0]|6.0       |6         |\n|[0.0,0.0,0.0,0.6666666666666666,0.3333333333333333,0.0,0.0,0.0]                                                                   |3.0       |3         |\n|[0.0,0.00631911532385466,0.020537124802527645,0.42022116903633494,0.09636650868878358,0.009478672985781991,0.4470774091627172,0.0]|6.0       |6         |\n|[0.0,0.0,0.0,0.6666666666666666,0.3333333333333333,0.0,0.0,0.0]                                                                   |3.0       |3         |\n|[0.0,0.00631911532385466,0.020537124802527645,0.42022116903633494,0.09636650868878358,0.009478672985781991,0.4470774091627172,0.0]|6.0       |6         |\n|[0.0,0.0,0.0,0.6666666666666666,0.3333333333333333,0.0,0.0,0.0]                                                                   |3.0       |3         |\n|[0.0,0.0,0.0,0.0873015873015873,0.8571428571428571,0.0,0.05555555555555555,0.0]                                                   |4.0       |3         |\n|[0.0,0.00631911532385466,0.020537124802527645,0.42022116903633494,0.09636650868878358,0.009478672985781991,0.4470774091627172,0.0]|6.0       |6         |\n+----------------------------------------------------------------------------------------------------------------------------------+----------+----------+\nonly showing top 10 rows\n\n</div>",
       "datasetInfos": [],
       "metadata": {},
       "removedWidgets": [],
       "type": "html"
      }
     },
     "output_type": "display_data"
    }
   ],
   "source": [
    "test_tree = dtree.fit(test)\n",
    "test_pred = test_tree.transform(test)\n",
    "test_pred.select('probability', 'prediction', 'Cover_Type').show(10, truncate=False)"
   ]
  },
  {
   "cell_type": "markdown",
   "metadata": {
    "application/vnd.databricks.v1+cell": {
     "cellMetadata": {},
     "inputWidgets": {},
     "nuid": "655a937d-c79a-4068-a5aa-29317ec30665",
     "showTitle": false,
     "title": ""
    }
   },
   "source": [
    "Use the test prediction to evaluate the model's performance with out-of-sample data. Start by creating a RDD of prediction/label pairs, then use this to create an instance of MulticlassMetrics to generate and print the **accuracy** atrribute rounded to four decimal places."
   ]
  },
  {
   "cell_type": "code",
   "execution_count": 0,
   "metadata": {
    "application/vnd.databricks.v1+cell": {
     "cellMetadata": {},
     "inputWidgets": {},
     "nuid": "fe86679b-6fff-4f52-bf4b-5adf038e57a9",
     "showTitle": false,
     "title": ""
    }
   },
   "outputs": [
    {
     "output_type": "display_data",
     "data": {
      "text/html": [
       "<style scoped>\n",
       "  .ansiout {\n",
       "    display: block;\n",
       "    unicode-bidi: embed;\n",
       "    white-space: pre-wrap;\n",
       "    word-wrap: break-word;\n",
       "    word-break: break-all;\n",
       "    font-family: \"Source Code Pro\", \"Menlo\", monospace;;\n",
       "    font-size: 13px;\n",
       "    color: #555;\n",
       "    margin-left: 4px;\n",
       "    line-height: 19px;\n",
       "  }\n",
       "</style>\n",
       "<div class=\"ansiout\">/databricks/spark/python/pyspark/sql/context.py:134: FutureWarning: Deprecated in 3.0.0. Use SparkSession.builder.getOrCreate() instead.\n",
       "  warnings.warn(\n",
       "Test Set Accuracy:  0.6709\n",
       "</div>"
      ]
     },
     "metadata": {
      "application/vnd.databricks.v1+output": {
       "addedWidgets": {},
       "arguments": {},
       "data": "<div class=\"ansiout\">/databricks/spark/python/pyspark/sql/context.py:134: FutureWarning: Deprecated in 3.0.0. Use SparkSession.builder.getOrCreate() instead.\n  warnings.warn(\nTest Set Accuracy:  0.6709\n</div>",
       "datasetInfos": [],
       "metadata": {},
       "removedWidgets": [],
       "type": "html"
      }
     },
     "output_type": "display_data"
    }
   ],
   "source": [
    "pred_and_labels = test_pred.rdd.map(lambda x:(x['prediction'],float(x['Cover_Type'])))\n",
    "metrics = MulticlassMetrics(pred_and_labels)\n",
    "\n",
    "print('Test Set Accuracy: ', round(metrics.accuracy,4))"
   ]
  },
  {
   "cell_type": "markdown",
   "metadata": {
    "application/vnd.databricks.v1+cell": {
     "cellMetadata": {},
     "inputWidgets": {},
     "nuid": "23f8429a-da36-47ff-b010-a72adf71d3a2",
     "showTitle": false,
     "title": ""
    }
   },
   "source": [
    "Display the Confusion Matrix for the test data."
   ]
  },
  {
   "cell_type": "code",
   "execution_count": 0,
   "metadata": {
    "application/vnd.databricks.v1+cell": {
     "cellMetadata": {},
     "inputWidgets": {},
     "nuid": "e159fb42-281a-44ae-a549-481f815b389d",
     "showTitle": false,
     "title": ""
    }
   },
   "outputs": [
    {
     "output_type": "display_data",
     "data": {
      "text/html": [
       "<style scoped>\n",
       "  .ansiout {\n",
       "    display: block;\n",
       "    unicode-bidi: embed;\n",
       "    white-space: pre-wrap;\n",
       "    word-wrap: break-word;\n",
       "    word-break: break-all;\n",
       "    font-family: \"Source Code Pro\", \"Menlo\", monospace;;\n",
       "    font-size: 13px;\n",
       "    color: #555;\n",
       "    margin-left: 4px;\n",
       "    line-height: 19px;\n",
       "  }\n",
       "</style>\n",
       "<div class=\"ansiout\">Out[20]: </div>"
      ]
     },
     "metadata": {
      "application/vnd.databricks.v1+output": {
       "addedWidgets": {},
       "arguments": {},
       "data": "<div class=\"ansiout\">Out[20]: </div>",
       "datasetInfos": [],
       "metadata": {},
       "removedWidgets": [],
       "type": "html"
      }
     },
     "output_type": "display_data"
    },
    {
     "output_type": "display_data",
     "data": {
      "text/html": [
       "<div>\n",
       "<style scoped>\n",
       "    .dataframe tbody tr th:only-of-type {\n",
       "        vertical-align: middle;\n",
       "    }\n",
       "\n",
       "    .dataframe tbody tr th {\n",
       "        vertical-align: top;\n",
       "    }\n",
       "\n",
       "    .dataframe thead th {\n",
       "        text-align: right;\n",
       "    }\n",
       "</style>\n",
       "<table border=\"1\" class=\"dataframe\">\n",
       "  <thead>\n",
       "    <tr style=\"text-align: right;\">\n",
       "      <th></th>\n",
       "      <th>1</th>\n",
       "      <th>2</th>\n",
       "      <th>3</th>\n",
       "      <th>4</th>\n",
       "      <th>5</th>\n",
       "      <th>6</th>\n",
       "      <th>7</th>\n",
       "    </tr>\n",
       "  </thead>\n",
       "  <tbody>\n",
       "    <tr>\n",
       "      <th>1</th>\n",
       "      <td>345</td>\n",
       "      <td>31</td>\n",
       "      <td>1</td>\n",
       "      <td>0</td>\n",
       "      <td>41</td>\n",
       "      <td>4</td>\n",
       "      <td>35</td>\n",
       "    </tr>\n",
       "    <tr>\n",
       "      <th>2</th>\n",
       "      <td>133</td>\n",
       "      <td>83</td>\n",
       "      <td>0</td>\n",
       "      <td>0</td>\n",
       "      <td>169</td>\n",
       "      <td>17</td>\n",
       "      <td>3</td>\n",
       "    </tr>\n",
       "    <tr>\n",
       "      <th>3</th>\n",
       "      <td>0</td>\n",
       "      <td>0</td>\n",
       "      <td>90</td>\n",
       "      <td>25</td>\n",
       "      <td>22</td>\n",
       "      <td>294</td>\n",
       "      <td>0</td>\n",
       "    </tr>\n",
       "    <tr>\n",
       "      <th>4</th>\n",
       "      <td>0</td>\n",
       "      <td>0</td>\n",
       "      <td>4</td>\n",
       "      <td>392</td>\n",
       "      <td>0</td>\n",
       "      <td>75</td>\n",
       "      <td>0</td>\n",
       "    </tr>\n",
       "    <tr>\n",
       "      <th>5</th>\n",
       "      <td>1</td>\n",
       "      <td>14</td>\n",
       "      <td>1</td>\n",
       "      <td>0</td>\n",
       "      <td>379</td>\n",
       "      <td>11</td>\n",
       "      <td>0</td>\n",
       "    </tr>\n",
       "    <tr>\n",
       "      <th>6</th>\n",
       "      <td>0</td>\n",
       "      <td>0</td>\n",
       "      <td>5</td>\n",
       "      <td>14</td>\n",
       "      <td>27</td>\n",
       "      <td>354</td>\n",
       "      <td>0</td>\n",
       "    </tr>\n",
       "    <tr>\n",
       "      <th>7</th>\n",
       "      <td>58</td>\n",
       "      <td>1</td>\n",
       "      <td>0</td>\n",
       "      <td>0</td>\n",
       "      <td>2</td>\n",
       "      <td>0</td>\n",
       "      <td>371</td>\n",
       "    </tr>\n",
       "  </tbody>\n",
       "</table>\n",
       "</div>"
      ]
     },
     "metadata": {
      "application/vnd.databricks.v1+output": {
       "addedWidgets": {},
       "arguments": {},
       "data": "<div>\n<style scoped>\n    .dataframe tbody tr th:only-of-type {\n        vertical-align: middle;\n    }\n\n    .dataframe tbody tr th {\n        vertical-align: top;\n    }\n\n    .dataframe thead th {\n        text-align: right;\n    }\n</style>\n<table border=\"1\" class=\"dataframe\">\n  <thead>\n    <tr style=\"text-align: right;\">\n      <th></th>\n      <th>1</th>\n      <th>2</th>\n      <th>3</th>\n      <th>4</th>\n      <th>5</th>\n      <th>6</th>\n      <th>7</th>\n    </tr>\n  </thead>\n  <tbody>\n    <tr>\n      <th>1</th>\n      <td>345</td>\n      <td>31</td>\n      <td>1</td>\n      <td>0</td>\n      <td>41</td>\n      <td>4</td>\n      <td>35</td>\n    </tr>\n    <tr>\n      <th>2</th>\n      <td>133</td>\n      <td>83</td>\n      <td>0</td>\n      <td>0</td>\n      <td>169</td>\n      <td>17</td>\n      <td>3</td>\n    </tr>\n    <tr>\n      <th>3</th>\n      <td>0</td>\n      <td>0</td>\n      <td>90</td>\n      <td>25</td>\n      <td>22</td>\n      <td>294</td>\n      <td>0</td>\n    </tr>\n    <tr>\n      <th>4</th>\n      <td>0</td>\n      <td>0</td>\n      <td>4</td>\n      <td>392</td>\n      <td>0</td>\n      <td>75</td>\n      <td>0</td>\n    </tr>\n    <tr>\n      <th>5</th>\n      <td>1</td>\n      <td>14</td>\n      <td>1</td>\n      <td>0</td>\n      <td>379</td>\n      <td>11</td>\n      <td>0</td>\n    </tr>\n    <tr>\n      <th>6</th>\n      <td>0</td>\n      <td>0</td>\n      <td>5</td>\n      <td>14</td>\n      <td>27</td>\n      <td>354</td>\n      <td>0</td>\n    </tr>\n    <tr>\n      <th>7</th>\n      <td>58</td>\n      <td>1</td>\n      <td>0</td>\n      <td>0</td>\n      <td>2</td>\n      <td>0</td>\n      <td>371</td>\n    </tr>\n  </tbody>\n</table>\n</div>",
       "datasetInfos": [],
       "metadata": {},
       "removedWidgets": [],
       "textData": null,
       "type": "htmlSandbox"
      }
     },
     "output_type": "display_data"
    }
   ],
   "source": [
    "labels = pred_and_labels.map(lambda x : int(x[1])).distinct().collect()\n",
    "cm = metrics.confusionMatrix().toArray().astype(int)\n",
    "\n",
    "pd.DataFrame(\n",
    "    data=cm,\n",
    "    columns=[1,2,3,4,5,6,7],\n",
    "    index=[1,2,3,4,5,6,7]\n",
    ")"
   ]
  },
  {
   "cell_type": "markdown",
   "metadata": {
    "application/vnd.databricks.v1+cell": {
     "cellMetadata": {},
     "inputWidgets": {},
     "nuid": "9f9fcd95-3092-4ef6-b43a-fc865d42818c",
     "showTitle": false,
     "title": ""
    }
   },
   "source": [
    "Observations in the test set with Cover Type **3** were misclassified by the model as Cover Type **6** a total of **294** times. This was the most common type of misclassification in the test set."
   ]
  },
  {
   "cell_type": "markdown",
   "metadata": {
    "application/vnd.databricks.v1+cell": {
     "cellMetadata": {},
     "inputWidgets": {},
     "nuid": "529016d8-6680-4d49-b368-172cad8bbf28",
     "showTitle": false,
     "title": ""
    }
   },
   "source": [
    "Calculate and display the precision and recall for all label values as calculated on the test set, rounded to 4 decimal places."
   ]
  },
  {
   "cell_type": "code",
   "execution_count": 0,
   "metadata": {
    "application/vnd.databricks.v1+cell": {
     "cellMetadata": {},
     "inputWidgets": {},
     "nuid": "6b11675e-6a63-42d0-b0b3-1b0fc9fefaf7",
     "showTitle": false,
     "title": ""
    }
   },
   "outputs": [
    {
     "output_type": "display_data",
     "data": {
      "text/html": [
       "<style scoped>\n",
       "  .ansiout {\n",
       "    display: block;\n",
       "    unicode-bidi: embed;\n",
       "    white-space: pre-wrap;\n",
       "    word-wrap: break-word;\n",
       "    word-break: break-all;\n",
       "    font-family: \"Source Code Pro\", \"Menlo\", monospace;;\n",
       "    font-size: 13px;\n",
       "    color: #555;\n",
       "    margin-left: 4px;\n",
       "    line-height: 19px;\n",
       "  }\n",
       "</style>\n",
       "<div class=\"ansiout\">Label       Precision   Recall\n",
       "------------------------------\n",
       "1           0.6425      0.7549\n",
       "2           0.6434      0.2049\n",
       "3           0.8911      0.2088\n",
       "4           0.9095      0.8323\n",
       "5           0.5922      0.9335\n",
       "6           0.4689      0.8850\n",
       "7           0.9071      0.8588\n",
       "</div>"
      ]
     },
     "metadata": {
      "application/vnd.databricks.v1+output": {
       "addedWidgets": {},
       "arguments": {},
       "data": "<div class=\"ansiout\">Label       Precision   Recall\n------------------------------\n1           0.6425      0.7549\n2           0.6434      0.2049\n3           0.8911      0.2088\n4           0.9095      0.8323\n5           0.5922      0.9335\n6           0.4689      0.8850\n7           0.9071      0.8588\n</div>",
       "datasetInfos": [],
       "metadata": {},
       "removedWidgets": [],
       "type": "html"
      }
     },
     "output_type": "display_data"
    }
   ],
   "source": [
    "print('Label       Precision   Recall')\n",
    "print('------------------------------')\n",
    "\n",
    "for i in [1,2,3,4,5,6,7]:\n",
    "    print(f'{i:<12}{metrics.precision(i):<12.4f}{metrics.recall(i):.4f}')"
   ]
  },
  {
   "cell_type": "markdown",
   "metadata": {
    "application/vnd.databricks.v1+cell": {
     "cellMetadata": {},
     "inputWidgets": {},
     "nuid": "fff79201-f930-4cca-abfb-a06020b51235",
     "showTitle": false,
     "title": ""
    }
   },
   "source": [
    "Interpret the precision and recall values from the test set."
   ]
  },
  {
   "cell_type": "markdown",
   "metadata": {
    "application/vnd.databricks.v1+cell": {
     "cellMetadata": {},
     "inputWidgets": {},
     "nuid": "668ba0d8-70fa-49e2-93fa-f04b111d40ac",
     "showTitle": false,
     "title": ""
    }
   },
   "source": [
    "1. **Which cover type is most likely to be correctly classified by our final model?**\n",
    " Cover Type 7 has the highest Precision value at **0.9071**, meaning that when the model predicted a square of land was Cover Type 7 and it really was Cover Type 7, it was correct 90.7% of the time. Its Recall value is also high at **0.8588**, meaning that of all the squares of land it predicted were Cover Type 7, it was correct 85.9% of the time.\n",
    "2. **Which cover type is most likely to be misclassified by our final model?**\n",
    " Cover Type 6 has the lowest Precision value at **0.4689**, meaning that when the model predicted a square of land was Cover Type 6 and it really was Cover Type 6, it was correct 46.9% of the time. This is corroborated in that almost as many squares of Cover Type 3 were mistakenly predicted as Cover Type 6. dramatically reducing the precision.  Interestingly, its Recall value is much higher at **0.885**, meaning that of all the squares of land it predicted were Cover Type 6, it was correct 88.5% of the time; in other words, there were very few squares of Cover Type 6 that were misclassified as some other cover type.\n",
    "3. **Which cover type has the greatest difference between its precision and recall? Explain the meaning of both of these values with respect to this cover type.**\n",
    " Precision is the proportion of positive results for a type that were actually correct for that type, while Recall is the proportion of all positive results for a type that were identified correctly as being that type. The differences are difficult to describe without an example: In the case of Cover Type 3, its Precision value is **0.8911** meaning that when the model predicted a square of land as Cover Type 3 and it actually is Cover Type 3, it was correct 89.1% of the time. Its Recall value is **0.2088** meaning that of all the squares of land the model predicted as being Cover Type 3, it was correct 20.9% of the time; as noted above, many of the squares of Cover Type 3 were misclassified as Cover Type 6. Put another way, if there were only 100 actual squares of Cover Type 3, it correctly identified 89 of them; but, if the model said there were 445 squares of Cover Type 3, only 20 percent (89) of them are actually Cover Type 3. The difference in the Precision and Recall values, **0.6823**, means that while it was accurately identifying areas within its own cover type, it was reaching very broadly and identifying many other areas incorrectly."
   ]
  }
 ],
 "metadata": {
  "application/vnd.databricks.v1+notebook": {
   "dashboards": [],
   "language": "python",
   "notebookMetadata": {
    "pythonIndentUnit": 4
   },
   "notebookName": "Project_03",
   "widgets": {}
  }
 },
 "nbformat": 4,
 "nbformat_minor": 0
}
